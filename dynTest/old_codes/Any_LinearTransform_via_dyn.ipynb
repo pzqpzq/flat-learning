{
 "cells": [
  {
   "cell_type": "code",
   "execution_count": 1,
   "id": "bb8d95cf",
   "metadata": {},
   "outputs": [],
   "source": [
    "\n",
    "import matplotlib.pyplot as plt\n",
    "import numpy as np\n",
    "import time\n",
    "import random\n",
    "from scipy.spatial.distance import cdist\n"
   ]
  },
  {
   "cell_type": "code",
   "execution_count": 2,
   "id": "4fb81794",
   "metadata": {},
   "outputs": [],
   "source": [
    "\n",
    "\n",
    "def forward_layers(Qs, lambdas):\n",
    "    dist_Qs = np.array([cdist(Qs[Q_id][0],Qs[Q_id][1]) for Q_id in range(num_Qs)])\n",
    "    weighted_sum_mat = np.sum(dist_Qs*lambdas.reshape(num_Qs,1,1), axis=0)\n",
    "    return weighted_sum_mat\n",
    "\n",
    "def rel_position(cur_q, nex_q):\n",
    "    # cur_q, nex_q are n*d matrices\n",
    "    res_pos = []\n",
    "    for q_id in range(cur_q.shape[0]):\n",
    "        res_pos.append(cur_q[q_id].reshape(1,Q_dim) - nex_q)\n",
    "    return np.array(res_pos)\n",
    "\n",
    "def _update_params_horiz(cur_coords, nex_coords, lambdas, t_mat, learning_rate=0.002):\n",
    "    \n",
    "    Q_rol = cur_coords.shape[1]\n",
    "    Q_col = nex_coords.shape[1]\n",
    "    \n",
    "    rel_dist_list = np.array([5*(cdist(cur_coords[set_id], nex_coords[set_id])-0.5)\\\n",
    "                              for set_id in range(num_Qs)]) \n",
    "    rel_vect_list = np.array([rel_position(cur_coords[set_id], nex_coords[set_id])\\\n",
    "                              for set_id in range(num_Qs)])\n",
    "    res_mat = np.sum(rel_dist_list*lambdas.reshape(num_Qs,1,1), axis=0)\n",
    "    res_error = (res_mat - t_mat)*indicator_T\n",
    "        \n",
    "    for Q_id in range(num_Qs):  \n",
    "        cur_lambda = lambdas[Q_id]\n",
    "        rel_dist_M = rel_dist_list[Q_id]\n",
    "        rel_vect_M = rel_vect_list[Q_id]\n",
    "        \n",
    "        resize_error = np.repeat(res_error.reshape(Q_rol,Q_col,1),\\\n",
    "                                 Q_dim,axis=1).reshape(Q_rol,Q_col,Q_dim)\n",
    "\n",
    "        _delta = 2*cur_lambda*rel_vect_M*resize_error\n",
    "        \n",
    "        cur_coords[Q_id] -= learning_rate*np.sum(_delta,axis=1)\n",
    "        nex_coords[Q_id] += learning_rate*np.sum(_delta,axis=0)  \n",
    "        lambdas[Q_id] -= learning_rate*np.sum(rel_dist_M*res_error)\n",
    "        \n",
    "    return cur_coords, nex_coords, lambdas, np.sum(abs(res_error))\n",
    "\n",
    "\n"
   ]
  },
  {
   "cell_type": "code",
   "execution_count": 3,
   "id": "721d4c61",
   "metadata": {},
   "outputs": [],
   "source": [
    "\n",
    "num_inputs = 20\n",
    "num_hidden = 20\n",
    "density = 0.5\n",
    "sparse_mat = True\n",
    "\n",
    "target_T = np.random.randn(num_inputs,num_hidden)\n",
    "\n",
    "indicator_T = np.zeros((num_inputs,num_hidden))\n",
    "\n",
    "if sparse_mat:\n",
    "    for row_id in range(num_inputs):\n",
    "        for col_id in range(num_hidden):\n",
    "            if random.random() < density:\n",
    "                indicator_T[row_id][col_id] = 1\n"
   ]
  },
  {
   "cell_type": "code",
   "execution_count": 5,
   "id": "1a4b8a58",
   "metadata": {
    "scrolled": true
   },
   "outputs": [
    {
     "name": "stdout",
     "output_type": "stream",
     "text": [
      "0 : 187.7353901328517\n",
      "2000 : 127.29095421033509\n",
      "4000 : 95.83444883872421\n",
      "6000 : 63.76997636848253\n",
      "8000 : 41.220902964116924\n",
      "10000 : 27.796919909493145\n",
      "12000 : 19.78156978747509\n",
      "14000 : 14.566381009944646\n",
      "16000 : 11.052066116438777\n",
      "18000 : 8.55147316194629\n",
      "20000 : 6.798326132931509\n",
      "22000 : 5.5177793569801175\n",
      "24000 : 4.573955118338496\n",
      "26000 : 3.8394312507097226\n",
      "28000 : 3.2568669443520726\n",
      "30000 : 2.7820128087057725\n",
      "32000 : 2.390748388944211\n",
      "34000 : 2.075127544362104\n",
      "36000 : 1.8084635778678653\n",
      "38000 : 1.581003562184453\n",
      "40000 : 1.387697137946039\n",
      "42000 : 1.222003393608245\n",
      "44000 : 1.0772882437862064\n",
      "46000 : 0.9532981007779956\n",
      "48000 : 0.8461019259427287\n",
      "50000 : 0.7514334912162988\n"
     ]
    },
    {
     "ename": "KeyboardInterrupt",
     "evalue": "",
     "output_type": "error",
     "traceback": [
      "\u001b[0;31m---------------------------------------------------------------------------\u001b[0m",
      "\u001b[0;31mKeyboardInterrupt\u001b[0m                         Traceback (most recent call last)",
      "\u001b[0;32m/var/folders/hg/b92hf0r56hb4mrb3y64dq0400000gn/T/ipykernel_4564/3414362780.py\u001b[0m in \u001b[0;36m<module>\u001b[0;34m\u001b[0m\n\u001b[1;32m      9\u001b[0m \u001b[0;34m\u001b[0m\u001b[0m\n\u001b[1;32m     10\u001b[0m \u001b[0;32mfor\u001b[0m \u001b[0mep\u001b[0m \u001b[0;32min\u001b[0m \u001b[0mrange\u001b[0m\u001b[0;34m(\u001b[0m\u001b[0;36m300000\u001b[0m\u001b[0;34m)\u001b[0m\u001b[0;34m:\u001b[0m\u001b[0;34m\u001b[0m\u001b[0;34m\u001b[0m\u001b[0m\n\u001b[0;32m---> 11\u001b[0;31m     \u001b[0mx_coords\u001b[0m\u001b[0;34m,\u001b[0m \u001b[0mh_coords\u001b[0m\u001b[0;34m,\u001b[0m \u001b[0mlambdas_xh\u001b[0m\u001b[0;34m,\u001b[0m \u001b[0merror\u001b[0m \u001b[0;34m=\u001b[0m \u001b[0m_update_params_horiz\u001b[0m\u001b[0;34m(\u001b[0m\u001b[0mx_coords\u001b[0m\u001b[0;34m,\u001b[0m \u001b[0mh_coords\u001b[0m\u001b[0;34m,\u001b[0m \u001b[0mlambdas_xh\u001b[0m\u001b[0;34m,\u001b[0m \u001b[0mtarget_T\u001b[0m\u001b[0;34m,\u001b[0m \u001b[0mlearning_rate\u001b[0m\u001b[0;34m=\u001b[0m\u001b[0mstep_size\u001b[0m\u001b[0;34m)\u001b[0m\u001b[0;34m\u001b[0m\u001b[0;34m\u001b[0m\u001b[0m\n\u001b[0m\u001b[1;32m     12\u001b[0m \u001b[0;34m\u001b[0m\u001b[0m\n\u001b[1;32m     13\u001b[0m     \u001b[0;32mif\u001b[0m \u001b[0mep\u001b[0m\u001b[0;34m%\u001b[0m\u001b[0;36m2000\u001b[0m \u001b[0;34m==\u001b[0m \u001b[0;36m0\u001b[0m\u001b[0;34m:\u001b[0m \u001b[0mprint\u001b[0m\u001b[0;34m(\u001b[0m\u001b[0mep\u001b[0m\u001b[0;34m,\u001b[0m \u001b[0;34m':'\u001b[0m\u001b[0;34m,\u001b[0m \u001b[0merror\u001b[0m\u001b[0;34m)\u001b[0m\u001b[0;34m\u001b[0m\u001b[0;34m\u001b[0m\u001b[0m\n",
      "\u001b[0;32m/var/folders/hg/b92hf0r56hb4mrb3y64dq0400000gn/T/ipykernel_4564/654912660.py\u001b[0m in \u001b[0;36m_update_params_horiz\u001b[0;34m(cur_coords, nex_coords, lambdas, t_mat, learning_rate)\u001b[0m\n\u001b[1;32m     30\u001b[0m         \u001b[0mresize_error\u001b[0m \u001b[0;34m=\u001b[0m \u001b[0mnp\u001b[0m\u001b[0;34m.\u001b[0m\u001b[0mrepeat\u001b[0m\u001b[0;34m(\u001b[0m\u001b[0mres_error\u001b[0m\u001b[0;34m.\u001b[0m\u001b[0mreshape\u001b[0m\u001b[0;34m(\u001b[0m\u001b[0mQ_rol\u001b[0m\u001b[0;34m,\u001b[0m\u001b[0mQ_col\u001b[0m\u001b[0;34m,\u001b[0m\u001b[0;36m1\u001b[0m\u001b[0;34m)\u001b[0m\u001b[0;34m,\u001b[0m\u001b[0mQ_dim\u001b[0m\u001b[0;34m,\u001b[0m\u001b[0maxis\u001b[0m\u001b[0;34m=\u001b[0m\u001b[0;36m1\u001b[0m\u001b[0;34m)\u001b[0m\u001b[0;34m.\u001b[0m\u001b[0mreshape\u001b[0m\u001b[0;34m(\u001b[0m\u001b[0mQ_rol\u001b[0m\u001b[0;34m,\u001b[0m\u001b[0mQ_col\u001b[0m\u001b[0;34m,\u001b[0m\u001b[0mQ_dim\u001b[0m\u001b[0;34m)\u001b[0m\u001b[0;34m\u001b[0m\u001b[0;34m\u001b[0m\u001b[0m\n\u001b[1;32m     31\u001b[0m \u001b[0;34m\u001b[0m\u001b[0m\n\u001b[0;32m---> 32\u001b[0;31m         \u001b[0m_delta\u001b[0m \u001b[0;34m=\u001b[0m \u001b[0;36m2\u001b[0m\u001b[0;34m*\u001b[0m\u001b[0mcur_lambda\u001b[0m\u001b[0;34m*\u001b[0m\u001b[0mrel_vect_M\u001b[0m\u001b[0;34m*\u001b[0m\u001b[0mresize_error\u001b[0m\u001b[0;34m\u001b[0m\u001b[0;34m\u001b[0m\u001b[0m\n\u001b[0m\u001b[1;32m     33\u001b[0m \u001b[0;34m\u001b[0m\u001b[0m\n\u001b[1;32m     34\u001b[0m         \u001b[0mcur_coords\u001b[0m\u001b[0;34m[\u001b[0m\u001b[0mQ_id\u001b[0m\u001b[0;34m]\u001b[0m \u001b[0;34m-=\u001b[0m \u001b[0mlearning_rate\u001b[0m\u001b[0;34m*\u001b[0m\u001b[0mnp\u001b[0m\u001b[0;34m.\u001b[0m\u001b[0msum\u001b[0m\u001b[0;34m(\u001b[0m\u001b[0m_delta\u001b[0m\u001b[0;34m,\u001b[0m\u001b[0maxis\u001b[0m\u001b[0;34m=\u001b[0m\u001b[0;36m1\u001b[0m\u001b[0;34m)\u001b[0m\u001b[0;34m\u001b[0m\u001b[0;34m\u001b[0m\u001b[0m\n",
      "\u001b[0;31mKeyboardInterrupt\u001b[0m: "
     ]
    }
   ],
   "source": [
    "\n",
    "Q_dim = 3\n",
    "num_Qs = 5\n",
    "step_size = 0.0001\n",
    "\n",
    "x_coords = np.random.rand(num_Qs, num_inputs,Q_dim)\n",
    "h_coords = np.random.rand(num_Qs, num_hidden,Q_dim)\n",
    "\n",
    "lambdas_xh = np.random.rand(num_Qs,1)/(0.5*num_Qs)\n",
    "\n",
    "for ep in range(300000):\n",
    "    x_coords, h_coords, lambdas_xh, error = _update_params_horiz(x_coords, h_coords, lambdas_xh, target_T, learning_rate=step_size)\n",
    "    \n",
    "    if ep%2000 == 0: print(ep, ':', error)\n",
    "\n",
    "\n"
   ]
  },
  {
   "cell_type": "code",
   "execution_count": 10,
   "id": "f834f72c",
   "metadata": {},
   "outputs": [
    {
     "data": {
      "text/plain": [
       "tensor([[0.0000, 2.8315, 3.5018, 2.6684, 3.2536, 3.2745, 4.2990, 3.9686, 3.6265,\n",
       "         3.0105, 4.6562, 4.3451, 2.7067, 4.4415, 3.4724, 4.1897, 4.0682, 4.2699,\n",
       "         3.4365, 4.2265],\n",
       "        [2.8315, 0.0000, 2.9557, 2.8128, 2.5230, 2.5453, 2.4577, 3.1909, 1.4871,\n",
       "         2.3451, 2.9022, 2.8215, 1.5530, 2.8251, 2.0857, 3.5528, 2.4442, 2.8691,\n",
       "         2.9126, 3.5958],\n",
       "        [3.5018, 2.9557, 0.0000, 4.1629, 3.7989, 3.8064, 2.6796, 2.2937, 3.5774,\n",
       "         3.8142, 4.7277, 3.2025, 2.5605, 3.9284, 2.1662, 3.8005, 4.5362, 2.9942,\n",
       "         3.1079, 4.0490],\n",
       "        [2.6684, 2.8128, 4.1629, 0.0000, 2.9031, 3.4671, 4.3401, 4.9041, 3.7018,\n",
       "         2.2703, 3.7564, 3.9020, 2.6459, 4.0999, 3.9731, 3.8318, 3.9549, 4.4751,\n",
       "         3.5647, 4.0755],\n",
       "        [3.2536, 2.5230, 3.7989, 2.9031, 0.0000, 2.3741, 2.6033, 3.7959, 2.4903,\n",
       "         2.8895, 3.9061, 3.0171, 2.7073, 3.1136, 2.6069, 3.5222, 3.1668, 2.7425,\n",
       "         1.9616, 2.2344],\n",
       "        [3.2745, 2.5453, 3.8064, 3.4671, 2.3741, 0.0000, 3.0732, 3.9885, 3.2501,\n",
       "         3.1225, 2.0969, 4.1300, 3.0452, 3.9400, 2.3834, 3.6041, 3.8879, 3.9137,\n",
       "         2.6040, 3.0135],\n",
       "        [4.2990, 2.4577, 2.6796, 4.3401, 2.6033, 3.0732, 0.0000, 3.3112, 2.0197,\n",
       "         4.1240, 3.5614, 3.3128, 3.0648, 1.6433, 2.7089, 3.1581, 2.6578, 2.8200,\n",
       "         3.2428, 3.1825],\n",
       "        [3.9686, 3.1909, 2.2937, 4.9041, 3.7959, 3.9885, 3.3112, 0.0000, 3.4902,\n",
       "         3.1624, 3.6588, 1.8861, 2.9977, 4.9271, 2.0801, 3.3586, 3.5869, 2.5550,\n",
       "         2.8431, 4.3646],\n",
       "        [3.6265, 1.4871, 3.5774, 3.7018, 2.4903, 3.2501, 2.0197, 3.4902, 0.0000,\n",
       "         2.9564, 3.1813, 3.0521, 2.7432, 2.3877, 2.9376, 3.1120, 2.7459, 2.8236,\n",
       "         3.4373, 3.2269],\n",
       "        [3.0105, 2.3451, 3.8142, 2.2703, 2.8895, 3.1225, 4.1240, 3.1624, 2.9564,\n",
       "         0.0000, 2.9251, 2.4822, 2.6049, 4.1297, 3.3782, 2.7744, 2.9790, 2.9172,\n",
       "         2.9917, 3.6939],\n",
       "        [4.6562, 2.9022, 4.7277, 3.7564, 3.9061, 2.0969, 3.5614, 3.6588, 3.1813,\n",
       "         2.9251, 0.0000, 3.4858, 4.1151, 4.5721, 2.9044, 2.4262, 3.3379, 3.8305,\n",
       "         3.4442, 3.5305],\n",
       "        [4.3451, 2.8215, 3.2025, 3.9020, 3.0171, 4.1300, 3.3128, 1.8861, 3.0521,\n",
       "         2.4822, 3.4858, 0.0000, 2.9269, 4.3601, 2.4534, 2.9214, 3.1220, 2.8068,\n",
       "         3.3159, 2.8594],\n",
       "        [2.7067, 1.5530, 2.5605, 2.6459, 2.7073, 3.0452, 3.0648, 2.9977, 2.7432,\n",
       "         2.6049, 4.1151, 2.9269, 0.0000, 3.4515, 2.8425, 4.5061, 3.0626, 3.3004,\n",
       "         3.1385, 3.8803],\n",
       "        [4.4415, 2.8251, 3.9284, 4.0999, 3.1136, 3.9400, 1.6433, 4.9271, 2.3877,\n",
       "         4.1297, 4.5721, 4.3601, 3.4515, 0.0000, 4.0785, 3.1820, 2.4245, 4.0731,\n",
       "         4.2129, 4.0158],\n",
       "        [3.4724, 2.0857, 2.1662, 3.9731, 2.6069, 2.3834, 2.7089, 2.0801, 2.9376,\n",
       "         3.3782, 2.9044, 2.4534, 2.8425, 4.0785, 0.0000, 3.1799, 3.5811, 2.7091,\n",
       "         2.2813, 3.0936],\n",
       "        [4.1897, 3.5528, 3.8005, 3.8318, 3.5222, 3.6041, 3.1581, 3.3586, 3.1120,\n",
       "         2.7744, 2.4262, 2.9214, 4.5061, 3.1820, 3.1799, 0.0000, 2.8643, 3.1289,\n",
       "         3.5927, 3.2297],\n",
       "        [4.0682, 2.4442, 4.5362, 3.9549, 3.1668, 3.8879, 2.6578, 3.5869, 2.7459,\n",
       "         2.9790, 3.3379, 3.1220, 3.0626, 2.4245, 3.5811, 2.8643, 0.0000, 3.3637,\n",
       "         3.7562, 4.4448],\n",
       "        [4.2699, 2.8691, 2.9942, 4.4751, 2.7425, 3.9137, 2.8200, 2.5550, 2.8236,\n",
       "         2.9172, 3.8305, 2.8068, 3.3004, 4.0731, 2.7091, 3.1289, 3.3637, 0.0000,\n",
       "         1.9935, 4.0069],\n",
       "        [3.4365, 2.9126, 3.1079, 3.5647, 1.9616, 2.6040, 3.2428, 2.8431, 3.4373,\n",
       "         2.9917, 3.4442, 3.3159, 3.1385, 4.2129, 2.2813, 3.5927, 3.7562, 1.9935,\n",
       "         0.0000, 3.3399],\n",
       "        [4.2265, 3.5958, 4.0490, 4.0755, 2.2344, 3.0135, 3.1825, 4.3646, 3.2269,\n",
       "         3.6939, 3.5305, 2.8594, 3.8803, 4.0158, 3.0936, 3.2297, 4.4448, 4.0069,\n",
       "         3.3399, 0.0000]])"
      ]
     },
     "execution_count": 10,
     "metadata": {},
     "output_type": "execute_result"
    }
   ],
   "source": [
    "\n",
    "xx = torch.rand(20,10)\n",
    "torch.cdist(xx,xx,p=1)\n"
   ]
  },
  {
   "cell_type": "code",
   "execution_count": null,
   "id": "2e5aa2d1",
   "metadata": {},
   "outputs": [],
   "source": []
  },
  {
   "cell_type": "code",
   "execution_count": null,
   "id": "4de770f9",
   "metadata": {
    "scrolled": true
   },
   "outputs": [],
   "source": [
    "\n",
    "#target_T[20:30,10:20]\n",
    "(target_T*indicator_T)[20:30,10:20]\n"
   ]
  },
  {
   "cell_type": "code",
   "execution_count": null,
   "id": "2619c261",
   "metadata": {},
   "outputs": [],
   "source": [
    "\n",
    "def recover_mat(cur_coords, nex_coords, lambdas):\n",
    "    rel_dist_list = np.array([5*(cdist(cur_coords[set_id], nex_coords[set_id])-0.5) for set_id in range(num_Qs)]) \n",
    "    rel_vect_list = np.array([rel_position(cur_coords[set_id], nex_coords[set_id]) for set_id in range(num_Qs)])\n",
    "    res_mat = np.sum(rel_dist_list*lambdas.reshape(num_Qs,1,1), axis=0)\n",
    "    \n",
    "    return res_mat\n",
    "\n",
    "\n",
    "rec_mat = recover_mat(x_coords, h_coords, lambdas_xh)\n",
    "\n",
    "#rec_mat[20:30,10:20]\n",
    "(rec_mat*indicator_T)[20:30,10:20]\n"
   ]
  },
  {
   "cell_type": "code",
   "execution_count": null,
   "id": "30d77b1c",
   "metadata": {},
   "outputs": [],
   "source": []
  },
  {
   "cell_type": "code",
   "execution_count": null,
   "id": "41692a11",
   "metadata": {},
   "outputs": [],
   "source": []
  }
 ],
 "metadata": {
  "kernelspec": {
   "display_name": "Python 3 (ipykernel)",
   "language": "python",
   "name": "python3"
  },
  "language_info": {
   "codemirror_mode": {
    "name": "ipython",
    "version": 3
   },
   "file_extension": ".py",
   "mimetype": "text/x-python",
   "name": "python",
   "nbconvert_exporter": "python",
   "pygments_lexer": "ipython3",
   "version": "3.8.13"
  }
 },
 "nbformat": 4,
 "nbformat_minor": 5
}
