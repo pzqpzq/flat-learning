{
  "nbformat": 4,
  "nbformat_minor": 0,
  "metadata": {
    "colab": {
      "provenance": [],
      "machine_shape": "hm",
      "gpuType": "L4"
    },
    "kernelspec": {
      "name": "python3",
      "display_name": "Python 3"
    },
    "language_info": {
      "name": "python"
    },
    "accelerator": "GPU"
  },
  "cells": [
    {
      "cell_type": "markdown",
      "source": [
        "This is a preliminary toy code for converting a layer of a pre-trained model using our proposed Riemannian Metric.\n",
        "In this notebook, we primarily compare our method with the typical Singular Value Decomposition method, which is easy to implement in this notebook without loading several packages and datasets.\n",
        "Besides, the SVD-based method refers to an optimal compression method according to the Eckart–Young–Mirsky theorem.\n",
        "Therefore, the superiority of our method over SVD on the task of matrix compression can mostly validate that our method's power.\n"
      ],
      "metadata": {
        "id": "VkfLo0UbDEb-"
      }
    },
    {
      "cell_type": "code",
      "source": [
        "\n",
        "import json\n",
        "from pprint import pprint\n",
        "\n",
        "import torch\n",
        "import time\n",
        "import random\n",
        "import numpy as np\n",
        "import torchvision\n",
        "\n",
        "import torch.nn as nn\n",
        "import torch.nn.functional as F\n",
        "\n",
        "\n",
        "import torchvision.models as models\n",
        "import torchvision.transforms as transforms\n",
        "\n",
        "from datetime import datetime\n",
        "\n",
        "SEED_ID = 42\n",
        "torch.manual_seed(SEED_ID)\n",
        "\n",
        "import copy\n",
        "\n",
        "device = torch.device(\"cuda\" if torch.cuda.is_available() else \"cpu\")\n",
        "print(device)\n"
      ],
      "metadata": {
        "colab": {
          "base_uri": "https://localhost:8080/"
        },
        "id": "AX-lGwwGC-66",
        "outputId": "6c37ea69-bfcd-4558-e0d8-f5d22094ff45"
      },
      "execution_count": 1,
      "outputs": [
        {
          "output_type": "stream",
          "name": "stdout",
          "text": [
            "cuda\n"
          ]
        }
      ]
    },
    {
      "cell_type": "code",
      "source": [
        "\n",
        "resnet50_model = models.resnet50(weights=models.ResNet50_Weights.IMAGENET1K_V1)\n"
      ],
      "metadata": {
        "id": "nnDHRzXvC-9w"
      },
      "execution_count": 2,
      "outputs": []
    },
    {
      "cell_type": "code",
      "source": [
        "\n",
        "# We pick a random layer's weights as the weight matrix(-ices).\n",
        "tar_mats_1 = resnet50_model.state_dict()['layer2.0.conv1.weight'].to(device)\n"
      ],
      "metadata": {
        "id": "9WHsKzcBC_Aq"
      },
      "execution_count": 3,
      "outputs": []
    },
    {
      "cell_type": "code",
      "source": [
        "\n",
        "def quant_mat_torch(_mat, num_bits, axis=0):\n",
        "\n",
        "    min_vals, max_vals = torch.min(_mat, axis=axis).values, torch.max(_mat, axis=axis).values\n",
        "    range_unit = (max_vals - min_vals)/(2**num_bits)\n",
        "    q_mat = min_vals + torch.round((_mat - min_vals)/range_unit)*range_unit\n",
        "\n",
        "    return q_mat\n"
      ],
      "metadata": {
        "id": "9o70NX74C_Df"
      },
      "execution_count": 4,
      "outputs": []
    },
    {
      "cell_type": "code",
      "source": [
        "\n",
        "def compress_mat_via_svd(tar_mat, _ratio, full_matrices=True, num_bits=-1):\n",
        "\n",
        "    U, S, Vh = torch.linalg.svd(tar_mat, full_matrices=full_matrices)\n",
        "    #print(U.shape, S.shape, Vh.shape)\n",
        "\n",
        "    num_row, num_col = tar_mat.shape[:2]\n",
        "\n",
        "    simple_rank = min(num_row, num_col)\n",
        "    keep_cols = round(simple_rank*_ratio)\n",
        "\n",
        "    comp_U, comp_S, comp_Vh = U[:, :keep_cols], torch.diag_embed(S[:keep_cols]), Vh[:keep_cols, :]\n",
        "\n",
        "    if num_bits != -1:\n",
        "        comp_U = quant_mat_torch(comp_U, num_bits)\n",
        "        comp_S = quant_mat_torch(comp_S, num_bits)\n",
        "        comp_Vh = quant_mat_torch(comp_Vh, num_bits)\n",
        "\n",
        "    rec_mat = comp_U @ comp_S @ comp_Vh\n",
        "    svd_params = comp_U.numel() + S[:keep_cols].numel() + comp_Vh.numel()\n",
        "    rel_error = torch.mean(torch.abs(tar_mat - rec_mat))/torch.std(tar_mat)\n",
        "\n",
        "    return rec_mat, rel_error.item(), svd_params\n"
      ],
      "metadata": {
        "id": "UxIjNZ5-C_GF"
      },
      "execution_count": 5,
      "outputs": []
    },
    {
      "cell_type": "code",
      "source": [
        "\n",
        "# We pick a specific rank-2 matrix as the target matrix for brevity.\n",
        "# In pratical case, one can implement the following compression directly on rank-4 tensors.\n",
        "tar_mat = tar_mats_1[:,:,0,0]\n",
        "\n",
        "print(tar_mat.shape)\n"
      ],
      "metadata": {
        "colab": {
          "base_uri": "https://localhost:8080/"
        },
        "id": "3Ejp3JTQD1hS",
        "outputId": "ffc8f4ce-944f-4b0c-9025-95559c00e21b"
      },
      "execution_count": 6,
      "outputs": [
        {
          "output_type": "stream",
          "name": "stdout",
          "text": [
            "torch.Size([128, 256])\n"
          ]
        }
      ]
    },
    {
      "cell_type": "code",
      "source": [
        "\n",
        "# We test the compression performance using a typical SVD (Singular Value Decomposition)-based method.\n",
        "svd_ratio, num_bits = 0.5, 8\n",
        "rec_mat, rec_error, rec_params = compress_mat_via_svd(tar_mat, svd_ratio, full_matrices=False, num_bits=num_bits)\n",
        "\n",
        "print('--- No.Params of Weights:', tar_mat.numel())\n",
        "print('--- No.Params of SVD:', rec_params,\n",
        "      '--- Compress Ratio:', round(num_bits/32 * rec_params/tar_mat.numel(),4),\n",
        "      '--- Rel Errors:', round(rec_error, 4))\n",
        "\n"
      ],
      "metadata": {
        "colab": {
          "base_uri": "https://localhost:8080/"
        },
        "id": "PWPx1f16D1q8",
        "outputId": "b4e485ba-3c4a-445c-e532-554e256a7381"
      },
      "execution_count": 7,
      "outputs": [
        {
          "output_type": "stream",
          "name": "stdout",
          "text": [
            "--- No.Params of Weights: 32768\n",
            "--- No.Params of SVD: 24640 --- Compress Ratio: 0.188 --- Rel Errors: 0.1758\n"
          ]
        }
      ]
    },
    {
      "cell_type": "markdown",
      "source": [
        "The compression technique via SVD method refers to the theoretically optimal\n",
        "compression efficiency using data-free method.\n",
        "\n",
        "The compression ratio is 0.188.\n",
        "The resulted relative error is 0.1758."
      ],
      "metadata": {
        "id": "U6HeZVpMEG6b"
      }
    },
    {
      "cell_type": "code",
      "source": [
        "\n",
        "\n",
        "class dynMat_rieM(nn.Module):\n",
        "    def __init__(self, num_input, num_output, q_dim, metric_dim):\n",
        "        super(dynMat_rieM, self).__init__()\n",
        "\n",
        "        self.num_input = num_input\n",
        "        self.num_output = num_output\n",
        "        self.q_dim = q_dim\n",
        "        self.metric_dim = metric_dim\n",
        "        self.sigmoid = nn.Sigmoid()\n",
        "        self.relu = nn.ReLU()\n",
        "        self.softmax = nn.Softmax(dim=1)\n",
        "\n",
        "        self.input_Qs = nn.Parameter(torch.rand(num_input, q_dim, device=device))\n",
        "        self.output_Qs = nn.Parameter(torch.rand(num_output, q_dim, device=device))\n",
        "\n",
        "        self.metric1_linear1 = nn.Linear(q_dim, metric_dim, device=device)\n",
        "        self.metric2_linear1 = nn.Linear(q_dim, metric_dim, device=device)\n",
        "        self.metric3_linear1 = nn.Linear(q_dim, metric_dim, device=device)\n",
        "        self.metric4_linear1 = nn.Linear(q_dim, metric_dim, device=device)\n",
        "        self.metric5_linear1 = nn.Linear(q_dim, metric_dim, device=device)\n",
        "        self.metric6_linear1 = nn.Linear(q_dim, metric_dim, device=device)\n",
        "\n",
        "        self.metric_linear2 = nn.Linear(metric_dim, 1, device=device)\n",
        "\n",
        "\n",
        "    def compute_relVecs(self, cat_id, num_bits):\n",
        "\n",
        "        if num_bits != -1:\n",
        "            input_Qs = quant_mat_torch(self.input_Qs, num_bits)\n",
        "            output_Qs = quant_mat_torch(self.output_Qs, num_bits)\n",
        "        else:\n",
        "            input_Qs = self.input_Qs\n",
        "            output_Qs = self.output_Qs\n",
        "\n",
        "        return input_Qs.unsqueeze(1) + torch.cat((output_Qs[:,cat_id:], output_Qs[:,:cat_id]), dim=1)\n",
        "\n",
        "\n",
        "    def forward(self, num_bits):\n",
        "\n",
        "        _relVecs1 = self.compute_relVecs(0, num_bits)\n",
        "        _relVecs2 = self.compute_relVecs(1*self.q_dim//6, num_bits)\n",
        "        _relVecs3 = self.compute_relVecs(2*self.q_dim//6, num_bits)\n",
        "        _relVecs4 = self.compute_relVecs(3*self.q_dim//6, num_bits)\n",
        "        _relVecs5 = self.compute_relVecs(4*self.q_dim//6, num_bits)\n",
        "        _relVecs6 = self.compute_relVecs(5*self.q_dim//6, num_bits)\n",
        "\n",
        "        Rm_dist = self.metric_linear2(\n",
        "            self.sigmoid(self.metric1_linear1(_relVecs1))+\n",
        "            self.sigmoid(self.metric2_linear1(_relVecs2))+\n",
        "            self.sigmoid(self.metric3_linear1(_relVecs3))+\n",
        "            self.sigmoid(self.metric4_linear1(_relVecs4))+\n",
        "            self.sigmoid(self.metric5_linear1(_relVecs5))+\n",
        "            self.sigmoid(self.metric6_linear1(_relVecs6))\n",
        "        ).squeeze(2)\n",
        "\n",
        "        return Rm_dist\n"
      ],
      "metadata": {
        "id": "Ds6oTiT4C_Id"
      },
      "execution_count": 8,
      "outputs": []
    },
    {
      "cell_type": "code",
      "source": [
        "\n",
        "def train_dynMat(_dynMat, _optimizer, tar_mat, _epochs, num_bits):\n",
        "\n",
        "    fail_count = 0\n",
        "    pre_err = 999\n",
        "    errs_list = []\n",
        "\n",
        "    for _ep in range(_epochs):\n",
        "        # During training, we assume full-precision.\n",
        "        res_mat = _dynMat(num_bits=-1)\n",
        "        loss_W = torch.sum((tar_mat - res_mat)**2)\n",
        "        _optimizer.zero_grad()\n",
        "        loss_W.backward()\n",
        "        _optimizer.step()\n",
        "\n",
        "        if _ep%5000 == 0:\n",
        "            # During inference, we use quantized RieM.\n",
        "            res_mat = _dynMat(num_bits=num_bits)\n",
        "            rel_error = torch.mean(torch.abs(tar_mat - res_mat))/torch.std(tar_mat)\n",
        "            if _ep%50000 == 0: print(_ep, loss_W.item(), '--- Rel Error:', rel_error.item(), datetime.now().time())\n",
        "            errs_list.append(round(rel_error.item(), 5))\n",
        "\n",
        "            if pre_err - rel_error < 5e-6 and _ep > round(_epochs*0.8): fail_count += 1\n",
        "            if fail_count == 5: break\n",
        "            pre_err = rel_error.item()\n",
        "\n",
        "        #if _ep%50000 == 0 and _ep != 0: print(errs_list)\n",
        "\n",
        "    if _epochs > 100000:\n",
        "        print(errs_list)\n",
        "        print('--- Min:', min(errs_list))\n",
        "\n",
        "    return _dynMat, _optimizer\n"
      ],
      "metadata": {
        "id": "CFwHb_ThDuzO"
      },
      "execution_count": 9,
      "outputs": []
    },
    {
      "cell_type": "code",
      "source": [
        "\n",
        "def pick_configuration(num_input, num_output, q_dim, metric_dim, max_pick, tar_mat, num_bits):\n",
        "\n",
        "\n",
        "    best_dynMat1_model = dynMat_rieM(num_input, num_output, q_dim, metric_dim)\n",
        "    best_dynMat1_optimizer = torch.optim.Adam(best_dynMat1_model.parameters(), lr=5e-5)\n",
        "    _params = sum([param.numel() for param in best_dynMat1_model.parameters()])\n",
        "    print('--- No.Params:', _params)\n",
        "\n",
        "    min_error = 999\n",
        "    for pick_id in range(max_pick):\n",
        "        _dynMat1_model = dynMat_rieM(num_input, num_output, q_dim, metric_dim)\n",
        "        _dynMat1_model.to(device)\n",
        "        _dynMat1_optimizer = torch.optim.Adam(_dynMat1_model.parameters(), lr=5e-5)\n",
        "\n",
        "        _dynMat1_model, _dynMat1_optimizer = train_dynMat(_dynMat1_model, _dynMat1_optimizer, tar_mat, 5000, num_bits)\n",
        "\n",
        "        res_mat = _dynMat1_model(num_bits=num_bits)\n",
        "        rel_error = torch.mean(torch.abs(tar_mat - res_mat))/torch.std(tar_mat)\n",
        "\n",
        "        print('--- curent pick_id:', pick_id, '--- with Error:', rel_error.item())\n",
        "        if rel_error < min_error:\n",
        "            print('######## Pick_ID:', pick_id, '#### with Error:', rel_error.item())\n",
        "            min_error = rel_error\n",
        "            best_dynMat1_model = _dynMat1_model\n",
        "            best_dynMat1_optimizer = _dynMat1_optimizer\n",
        "\n",
        "    return best_dynMat1_model, best_dynMat1_optimizer\n",
        "\n"
      ],
      "metadata": {
        "id": "Vnqq33J0Du2m"
      },
      "execution_count": 10,
      "outputs": []
    },
    {
      "cell_type": "code",
      "source": [
        "\n",
        "# Pick a relatively optimal initialization.\n",
        "dynMat1_model, dynMat1_optimizer = pick_configuration(tar_mat.shape[0], tar_mat.shape[1], 52, 14, 100, tar_mat, num_bits)\n",
        "\n"
      ],
      "metadata": {
        "colab": {
          "base_uri": "https://localhost:8080/"
        },
        "id": "uAaobureDu5_",
        "outputId": "d45b9d79-e8b8-43a1-ad97-76b136a221ea"
      },
      "execution_count": 11,
      "outputs": [
        {
          "output_type": "stream",
          "name": "stdout",
          "text": [
            "--- No.Params: 24435\n",
            "0 167176.78125 --- Rel Error: 63.48075485229492 15:44:57.151827\n",
            "--- curent pick_id: 0 --- with Error: 0.7266885638237\n",
            "######## Pick_ID: 0 #### with Error: 0.7266885638237\n",
            "0 99855.53125 --- Rel Error: 48.90410232543945 15:45:16.454490\n",
            "--- curent pick_id: 1 --- with Error: 0.6974816918373108\n",
            "######## Pick_ID: 1 #### with Error: 0.6974816918373108\n",
            "0 254.0826416015625 --- Rel Error: 1.8995635509490967 15:45:35.538680\n",
            "--- curent pick_id: 2 --- with Error: 0.6880909204483032\n",
            "######## Pick_ID: 2 #### with Error: 0.6880909204483032\n",
            "0 4324.02099609375 --- Rel Error: 9.623333930969238 15:45:54.591602\n",
            "--- curent pick_id: 3 --- with Error: 0.6922196745872498\n",
            "0 31455.33984375 --- Rel Error: 27.3243465423584 15:46:13.629633\n",
            "--- curent pick_id: 4 --- with Error: 0.6930917501449585\n",
            "0 275.38555908203125 --- Rel Error: 1.9787579774856567 15:46:32.804646\n",
            "--- curent pick_id: 5 --- with Error: 0.6881184577941895\n",
            "0 1036.686279296875 --- Rel Error: 4.29775857925415 15:46:51.990866\n",
            "--- curent pick_id: 6 --- with Error: 0.6904563903808594\n",
            "0 38865.7734375 --- Rel Error: 30.462421417236328 15:47:11.215248\n",
            "--- curent pick_id: 7 --- with Error: 0.6934338808059692\n",
            "0 207995.5 --- Rel Error: 70.85356140136719 15:47:30.424146\n",
            "--- curent pick_id: 8 --- with Error: 0.7466694116592407\n",
            "0 116573.4140625 --- Rel Error: 52.97077941894531 15:47:49.798927\n",
            "--- curent pick_id: 9 --- with Error: 0.6989355683326721\n",
            "0 390.8828125 --- Rel Error: 2.450122833251953 15:48:09.214818\n",
            "--- curent pick_id: 10 --- with Error: 0.6887252330780029\n",
            "0 472286.4375 --- Rel Error: 106.87548828125 15:48:28.567412\n",
            "--- curent pick_id: 11 --- with Error: 0.8725789785385132\n",
            "0 104634.828125 --- Rel Error: 50.15170669555664 15:48:47.951966\n",
            "--- curent pick_id: 12 --- with Error: 0.7061276435852051\n",
            "0 10802.185546875 --- Rel Error: 15.725847244262695 15:49:07.296721\n",
            "--- curent pick_id: 13 --- with Error: 0.6917967796325684\n",
            "0 579.914794921875 --- Rel Error: 3.2054476737976074 15:49:26.443204\n",
            "--- curent pick_id: 14 --- with Error: 0.6896092295646667\n",
            "0 64749.2421875 --- Rel Error: 39.317543029785156 15:49:45.782985\n",
            "--- curent pick_id: 15 --- with Error: 0.699131965637207\n",
            "0 80725.9609375 --- Rel Error: 43.96216583251953 15:50:05.014443\n",
            "--- curent pick_id: 16 --- with Error: 0.699244499206543\n",
            "0 244985.390625 --- Rel Error: 76.9277114868164 15:50:24.294839\n",
            "--- curent pick_id: 17 --- with Error: 0.7642951607704163\n",
            "0 769.7702026367188 --- Rel Error: 3.6165361404418945 15:50:43.525098\n",
            "--- curent pick_id: 18 --- with Error: 0.6900526881217957\n",
            "0 12674.9765625 --- Rel Error: 17.143539428710938 15:51:02.635742\n",
            "--- curent pick_id: 19 --- with Error: 0.6923055648803711\n",
            "0 364814.625 --- Rel Error: 93.87533569335938 15:51:21.825138\n",
            "--- curent pick_id: 20 --- with Error: 0.7988383173942566\n",
            "0 120528.7890625 --- Rel Error: 53.78103256225586 15:51:41.189432\n",
            "--- curent pick_id: 21 --- with Error: 0.7018563151359558\n",
            "0 580.8006591796875 --- Rel Error: 2.948714256286621 15:52:00.353169\n",
            "--- curent pick_id: 22 --- with Error: 0.6893917322158813\n",
            "0 40836.67578125 --- Rel Error: 31.21946907043457 15:52:19.467767\n",
            "--- curent pick_id: 23 --- with Error: 0.6934495568275452\n",
            "0 10734.978515625 --- Rel Error: 15.687420845031738 15:52:38.707628\n",
            "--- curent pick_id: 24 --- with Error: 0.693058431148529\n",
            "0 71464.265625 --- Rel Error: 41.35655212402344 15:52:58.134535\n",
            "--- curent pick_id: 25 --- with Error: 0.6946449875831604\n",
            "0 55512.84765625 --- Rel Error: 36.410858154296875 15:53:17.297024\n",
            "--- curent pick_id: 26 --- with Error: 0.6962104439735413\n",
            "0 33849.296875 --- Rel Error: 28.32406234741211 15:53:36.496714\n",
            "--- curent pick_id: 27 --- with Error: 0.6945628523826599\n",
            "0 306193.3125 --- Rel Error: 85.97718048095703 15:53:55.826342\n",
            "--- curent pick_id: 28 --- with Error: 0.7371006608009338\n",
            "0 45740.3515625 --- Rel Error: 33.03120803833008 15:54:15.208081\n",
            "--- curent pick_id: 29 --- with Error: 0.6947281956672668\n",
            "0 173676.625 --- Rel Error: 64.68623352050781 15:54:34.571594\n",
            "--- curent pick_id: 30 --- with Error: 0.7178991436958313\n",
            "0 537.6838989257812 --- Rel Error: 2.8017640113830566 15:54:54.038091\n",
            "--- curent pick_id: 31 --- with Error: 0.689903199672699\n",
            "0 110576.5 --- Rel Error: 51.552608489990234 15:55:13.228863\n",
            "--- curent pick_id: 32 --- with Error: 0.7019202709197998\n",
            "0 135661.875 --- Rel Error: 57.10630416870117 15:55:32.600937\n",
            "--- curent pick_id: 33 --- with Error: 0.7021439075469971\n",
            "0 55892.3515625 --- Rel Error: 36.677581787109375 15:55:51.820943\n",
            "--- curent pick_id: 34 --- with Error: 0.7002317905426025\n",
            "0 6544.55126953125 --- Rel Error: 12.154951095581055 15:56:11.278415\n",
            "--- curent pick_id: 35 --- with Error: 0.6913011074066162\n",
            "0 18318.79296875 --- Rel Error: 20.62362289428711 15:56:30.797757\n",
            "--- curent pick_id: 36 --- with Error: 0.6925959587097168\n",
            "0 108075.96875 --- Rel Error: 51.03651809692383 15:56:50.349944\n",
            "--- curent pick_id: 37 --- with Error: 0.7331348061561584\n",
            "0 427.1949157714844 --- Rel Error: 2.4558725357055664 15:57:09.588953\n",
            "--- curent pick_id: 38 --- with Error: 0.6897568106651306\n",
            "0 195.99693298339844 --- Rel Error: 1.6688432693481445 15:57:28.714003\n",
            "--- curent pick_id: 39 --- with Error: 0.6870171427726746\n",
            "######## Pick_ID: 39 #### with Error: 0.6870171427726746\n",
            "0 60998.546875 --- Rel Error: 38.1934928894043 15:57:47.851107\n",
            "--- curent pick_id: 40 --- with Error: 0.6973997354507446\n",
            "0 100547.6953125 --- Rel Error: 49.10442352294922 15:58:07.102663\n",
            "--- curent pick_id: 41 --- with Error: 0.7012653946876526\n",
            "0 350370.1875 --- Rel Error: 91.99032592773438 15:58:26.663084\n",
            "--- curent pick_id: 42 --- with Error: 0.7989263534545898\n",
            "0 37655.83984375 --- Rel Error: 29.889589309692383 15:58:46.076802\n",
            "--- curent pick_id: 43 --- with Error: 0.6953577995300293\n",
            "0 2264.15234375 --- Rel Error: 6.677558422088623 15:59:05.680957\n",
            "--- curent pick_id: 44 --- with Error: 0.6908236145973206\n",
            "0 157292.375 --- Rel Error: 61.552207946777344 15:59:24.990056\n",
            "--- curent pick_id: 45 --- with Error: 0.7097970247268677\n",
            "0 36255.8984375 --- Rel Error: 29.41567039489746 15:59:44.151952\n",
            "--- curent pick_id: 46 --- with Error: 0.6925035119056702\n",
            "0 204877.859375 --- Rel Error: 70.21430206298828 16:00:03.311091\n",
            "--- curent pick_id: 47 --- with Error: 0.7214550971984863\n",
            "0 59082.8359375 --- Rel Error: 37.54957580566406 16:00:22.461079\n",
            "--- curent pick_id: 48 --- with Error: 0.6965686082839966\n",
            "0 28768.89453125 --- Rel Error: 26.076505661010742 16:00:41.666448\n",
            "--- curent pick_id: 49 --- with Error: 0.6943658590316772\n",
            "0 55545.4296875 --- Rel Error: 36.43177032470703 16:01:01.116929\n",
            "--- curent pick_id: 50 --- with Error: 0.6975610852241516\n",
            "0 13357.6796875 --- Rel Error: 17.631637573242188 16:01:20.457345\n",
            "--- curent pick_id: 51 --- with Error: 0.6921411156654358\n",
            "0 12069.23046875 --- Rel Error: 16.631145477294922 16:01:39.845532\n",
            "--- curent pick_id: 52 --- with Error: 0.6917141079902649\n",
            "0 4735.5546875 --- Rel Error: 10.25335693359375 16:01:59.354527\n",
            "--- curent pick_id: 53 --- with Error: 0.6913456320762634\n",
            "0 478.4075012207031 --- Rel Error: 2.743180274963379 16:02:18.584254\n",
            "--- curent pick_id: 54 --- with Error: 0.6890607476234436\n",
            "0 183796.03125 --- Rel Error: 66.59357452392578 16:02:37.914825\n",
            "--- curent pick_id: 55 --- with Error: 0.7324979901313782\n",
            "0 64975.203125 --- Rel Error: 39.39541244506836 16:02:57.194454\n",
            "--- curent pick_id: 56 --- with Error: 0.6966527700424194\n",
            "0 89496.1015625 --- Rel Error: 46.337974548339844 16:03:16.437666\n",
            "--- curent pick_id: 57 --- with Error: 0.6969953775405884\n",
            "0 84081.2421875 --- Rel Error: 44.851905822753906 16:03:35.892891\n",
            "--- curent pick_id: 58 --- with Error: 0.6966369152069092\n",
            "0 60636.64453125 --- Rel Error: 38.102046966552734 16:03:55.118852\n",
            "--- curent pick_id: 59 --- with Error: 0.6989772915840149\n",
            "0 545883.0625 --- Rel Error: 114.90592956542969 16:04:14.465918\n",
            "--- curent pick_id: 60 --- with Error: 0.8790094256401062\n",
            "0 89218.1015625 --- Rel Error: 46.175228118896484 16:04:33.710276\n",
            "--- curent pick_id: 61 --- with Error: 0.6982124447822571\n",
            "0 10408.017578125 --- Rel Error: 15.432755470275879 16:04:53.046787\n",
            "--- curent pick_id: 62 --- with Error: 0.6917259097099304\n",
            "0 22485.453125 --- Rel Error: 23.10021209716797 16:05:12.315925\n",
            "--- curent pick_id: 63 --- with Error: 0.6927209496498108\n",
            "0 117065.96875 --- Rel Error: 52.9861946105957 16:05:31.585871\n",
            "--- curent pick_id: 64 --- with Error: 0.7075758576393127\n",
            "0 11669.5927734375 --- Rel Error: 16.455049514770508 16:05:50.905444\n",
            "--- curent pick_id: 65 --- with Error: 0.6914244294166565\n",
            "0 122378.109375 --- Rel Error: 54.20149612426758 16:06:10.191206\n",
            "--- curent pick_id: 66 --- with Error: 0.7062377333641052\n",
            "0 44493.046875 --- Rel Error: 32.564666748046875 16:06:29.570680\n",
            "--- curent pick_id: 67 --- with Error: 0.6943249702453613\n",
            "0 1527.9718017578125 --- Rel Error: 5.2976884841918945 16:06:49.008734\n",
            "--- curent pick_id: 68 --- with Error: 0.6908537745475769\n",
            "0 565.94677734375 --- Rel Error: 2.9412894248962402 16:07:08.505127\n",
            "--- curent pick_id: 69 --- with Error: 0.6896343231201172\n",
            "0 28024.630859375 --- Rel Error: 25.702787399291992 16:07:27.811500\n",
            "--- curent pick_id: 70 --- with Error: 0.6927281022071838\n",
            "0 9034.001953125 --- Rel Error: 14.323511123657227 16:07:47.182168\n",
            "--- curent pick_id: 71 --- with Error: 0.6919549703598022\n",
            "0 165839.59375 --- Rel Error: 63.25741195678711 16:08:06.642368\n",
            "--- curent pick_id: 72 --- with Error: 0.7276020646095276\n",
            "0 323228.15625 --- Rel Error: 88.39916229248047 16:08:26.161102\n",
            "--- curent pick_id: 73 --- with Error: 0.7854950428009033\n",
            "0 6377.236328125 --- Rel Error: 11.802397727966309 16:08:45.493748\n",
            "--- curent pick_id: 74 --- with Error: 0.692037045955658\n",
            "0 716.6354370117188 --- Rel Error: 3.5303328037261963 16:09:04.787701\n",
            "--- curent pick_id: 75 --- with Error: 0.6895396113395691\n",
            "0 155953.828125 --- Rel Error: 61.31267547607422 16:09:24.286463\n",
            "--- curent pick_id: 76 --- with Error: 0.7207229137420654\n",
            "0 416155.8125 --- Rel Error: 100.31397247314453 16:09:43.761644\n",
            "--- curent pick_id: 77 --- with Error: 0.8523738384246826\n",
            "0 48018.7890625 --- Rel Error: 33.77314376831055 16:10:02.999832\n",
            "--- curent pick_id: 78 --- with Error: 0.6946743726730347\n",
            "0 42542.19921875 --- Rel Error: 31.83987045288086 16:10:22.399701\n",
            "--- curent pick_id: 79 --- with Error: 0.6939142346382141\n",
            "0 7324.076171875 --- Rel Error: 12.863016128540039 16:10:41.736061\n",
            "--- curent pick_id: 80 --- with Error: 0.6928835511207581\n",
            "0 415.38104248046875 --- Rel Error: 2.468015670776367 16:11:00.971678\n",
            "--- curent pick_id: 81 --- with Error: 0.6892157196998596\n",
            "0 171408.59375 --- Rel Error: 64.28738403320312 16:11:20.277600\n",
            "--- curent pick_id: 82 --- with Error: 0.727190375328064\n",
            "0 198124.78125 --- Rel Error: 69.0584716796875 16:11:39.516490\n",
            "--- curent pick_id: 83 --- with Error: 0.7087461352348328\n",
            "0 198305.84375 --- Rel Error: 69.16889953613281 16:11:58.912803\n",
            "--- curent pick_id: 84 --- with Error: 0.7189145088195801\n",
            "0 82969.859375 --- Rel Error: 44.64684295654297 16:12:18.599561\n",
            "--- curent pick_id: 85 --- with Error: 0.7045422792434692\n",
            "0 36357.80078125 --- Rel Error: 29.458229064941406 16:12:37.864369\n",
            "--- curent pick_id: 86 --- with Error: 0.6925391554832458\n",
            "0 135691.78125 --- Rel Error: 57.13546371459961 16:12:57.052756\n",
            "--- curent pick_id: 87 --- with Error: 0.7059205174446106\n",
            "0 1006.4893798828125 --- Rel Error: 4.2668070793151855 16:13:16.271601\n",
            "--- curent pick_id: 88 --- with Error: 0.6909742951393127\n",
            "0 19941.146484375 --- Rel Error: 21.716670989990234 16:13:35.761630\n",
            "--- curent pick_id: 89 --- with Error: 0.6918073892593384\n",
            "0 17804.66796875 --- Rel Error: 20.556955337524414 16:13:55.198238\n",
            "--- curent pick_id: 90 --- with Error: 0.692064642906189\n",
            "0 4101.431640625 --- Rel Error: 9.412474632263184 16:14:14.592270\n",
            "--- curent pick_id: 91 --- with Error: 0.6912280917167664\n",
            "0 196398.28125 --- Rel Error: 68.77002716064453 16:14:33.907487\n",
            "--- curent pick_id: 92 --- with Error: 0.71612548828125\n",
            "0 197216.90625 --- Rel Error: 68.92224884033203 16:14:53.285162\n",
            "--- curent pick_id: 93 --- with Error: 0.719648540019989\n",
            "0 128668.984375 --- Rel Error: 55.60712432861328 16:15:12.577895\n",
            "--- curent pick_id: 94 --- with Error: 0.7071906328201294\n",
            "0 26228.40234375 --- Rel Error: 24.951555252075195 16:15:31.908206\n",
            "--- curent pick_id: 95 --- with Error: 0.6938533186912537\n",
            "0 96586.28125 --- Rel Error: 48.20937728881836 16:15:51.262801\n",
            "--- curent pick_id: 96 --- with Error: 0.7008728384971619\n",
            "0 938695.1875 --- Rel Error: 150.76309204101562 16:16:10.544291\n",
            "--- curent pick_id: 97 --- with Error: 1.0835442543029785\n",
            "0 277306.9375 --- Rel Error: 81.79222869873047 16:16:29.921544\n",
            "--- curent pick_id: 98 --- with Error: 0.7358675003051758\n",
            "0 9130.560546875 --- Rel Error: 14.466750144958496 16:16:49.257315\n",
            "--- curent pick_id: 99 --- with Error: 0.6919921636581421\n"
          ]
        }
      ]
    },
    {
      "cell_type": "code",
      "source": [
        "\n",
        "dynMat1_params = sum([param.numel() for param in dynMat1_model.parameters()])\n",
        "print('--- No.Params of Weights:', tar_mat.numel())\n",
        "print('--- No.Params of RieM-struct:', dynMat1_params,\n",
        "      '--- Compress Ratio:', round(num_bits/32 * dynMat1_params/tar_mat.numel(),4))\n",
        "\n",
        "dynMat1_model, dynMat1_optimizer = train_dynMat(dynMat1_model, dynMat1_optimizer, tar_mat, 1000001, num_bits)\n"
      ],
      "metadata": {
        "colab": {
          "base_uri": "https://localhost:8080/"
        },
        "id": "hY6AxsxaC_LC",
        "outputId": "f8c48d06-4e3d-4232-aecf-f464f74aeb0c"
      },
      "execution_count": 12,
      "outputs": [
        {
          "output_type": "stream",
          "name": "stdout",
          "text": [
            "--- No.Params of Weights: 32768\n",
            "--- No.Params of RieM-struct: 24435 --- Compress Ratio: 0.1864\n",
            "0 39.576995849609375 --- Rel Error: 0.6870150566101074 16:17:08.869364\n",
            "50000 3.4940133094787598 --- Rel Error: 0.22884352505207062 16:20:22.178826\n",
            "100000 1.8874965906143188 --- Rel Error: 0.17025858163833618 16:23:35.084027\n",
            "150000 1.3928956985473633 --- Rel Error: 0.14737416803836823 16:26:47.124452\n",
            "200000 1.1604812145233154 --- Rel Error: 0.1348249763250351 16:29:59.241137\n",
            "250000 1.0229363441467285 --- Rel Error: 0.1264714151620865 16:33:11.784349\n",
            "300000 0.9300796389579773 --- Rel Error: 0.12116575986146927 16:36:24.315625\n",
            "350000 0.9887763261795044 --- Rel Error: 0.13266977667808533 16:39:36.052911\n",
            "400000 0.8109122514724731 --- Rel Error: 0.1133427694439888 16:42:47.231562\n",
            "450000 0.7713472843170166 --- Rel Error: 0.11129428446292877 16:45:58.982576\n",
            "500000 0.7383248805999756 --- Rel Error: 0.10917417705059052 16:49:10.615333\n",
            "550000 0.7096027731895447 --- Rel Error: 0.10784029215574265 16:52:21.377961\n",
            "600000 0.6852337121963501 --- Rel Error: 0.10641557723283768 16:55:34.081823\n",
            "650000 0.6764756441116333 --- Rel Error: 0.10695331543684006 16:58:46.714060\n",
            "700000 0.6471447944641113 --- Rel Error: 0.10433509200811386 17:01:58.184336\n",
            "750000 0.6319824457168579 --- Rel Error: 0.10414385050535202 17:05:10.160347\n",
            "800000 0.618659496307373 --- Rel Error: 0.10284765064716339 17:08:20.847709\n",
            "850000 0.6091368198394775 --- Rel Error: 0.10238470137119293 17:11:33.264810\n",
            "[0.68702, 0.63198, 0.51201, 0.42681, 0.36815, 0.32625, 0.29578, 0.27261, 0.25438, 0.24016, 0.22884, 0.21897, 0.21078, 0.20362, 0.19769, 0.19161, 0.18644, 0.18175, 0.17739, 0.1757, 0.17026, 0.16718, 0.16415, 0.16145, 0.15907, 0.15678, 0.15463, 0.1526, 0.15056, 0.14907, 0.14737, 0.14563, 0.14403, 0.14254, 0.14131, 0.14018, 0.13867, 0.13749, 0.13689, 0.13592, 0.13482, 0.13381, 0.1328, 0.13166, 0.13091, 0.1324, 0.12947, 0.12896, 0.12776, 0.1273, 0.12647, 0.12578, 0.12509, 0.12495, 0.12369, 0.12369, 0.12312, 0.12222, 0.1222, 0.12155, 0.12117, 0.12092, 0.1199, 0.1194, 0.11911, 0.11904, 0.11853, 0.11926, 0.11759, 0.11756, 0.13267, 0.11966, 0.11581, 0.11573, 0.11494, 0.11539, 0.11491, 0.11476, 0.11403, 0.11438, 0.11334, 0.11318, 0.11357, 0.11236, 0.11278, 0.1129, 0.11237, 0.11233, 0.11218, 0.11178, 0.11129, 0.11117, 0.11095, 0.11135, 0.1108, 0.11048, 0.11024, 0.11061, 0.10985, 0.11136, 0.10917, 0.10923, 0.10982, 0.10897, 0.10881, 0.10867, 0.10877, 0.10792, 0.10872, 0.1079, 0.10784, 0.10751, 0.10739, 0.10734, 0.1075, 0.10737, 0.10797, 0.10681, 0.1063, 0.10631, 0.10642, 0.1067, 0.10615, 0.10643, 0.10679, 0.10599, 0.10532, 0.1051, 0.10564, 0.10558, 0.10695, 0.10555, 0.10589, 0.10443, 0.10444, 0.10484, 0.10454, 0.10473, 0.10458, 0.10454, 0.10434, 0.10432, 0.10401, 0.10402, 0.10453, 0.10323, 0.10344, 0.10453, 0.10345, 0.10356, 0.10414, 0.10372, 0.10344, 0.10305, 0.10337, 0.10382, 0.10282, 0.103, 0.10304, 0.10296, 0.10285, 0.1028, 0.10211, 0.10182, 0.10232, 0.10162, 0.10178, 0.10192, 0.10128, 0.10214, 0.10238]\n",
            "--- Min: 0.10128\n"
          ]
        }
      ]
    },
    {
      "cell_type": "markdown",
      "source": [
        "The RieM's compression ratio is 0.1864, which is even lower than SVD's 0.188.\n",
        "\n",
        "We observe that the data-free compression via RieM has a relative error up to 0.1013, which is significantly lower than the relative error 0.1758 obtained via SVD."
      ],
      "metadata": {
        "id": "S5Nda8Q9NvwB"
      }
    },
    {
      "cell_type": "code",
      "source": [
        "\n",
        "\n"
      ],
      "metadata": {
        "id": "KEF-kDFqC_Np"
      },
      "execution_count": null,
      "outputs": []
    }
  ]
}